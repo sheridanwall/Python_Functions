{
 "cells": [
  {
   "cell_type": "markdown",
   "metadata": {},
   "source": [
    "## homework 4.2: investigating lists and dictionaries using functions\n",
    "\n",
    "In this assignment I will ask you to pick five relatively short texts (poems, paragraphs, short essays, song lyrics, whatever interests you). The main thing is to make sure that each text is around 10 - 20 lines or sentences long. Below, I have selected five poems by Wallace Stevens. In each cell I have made a variable that contains each poem, and then I pass that poem through a function called `text_to_dict` that makes a dictionary for each poem. The dictionary contains the title of the poem, the full text as one string, and a list that contains each line of the poem. The function will also make lists of sentences instead of lines if you want to investigate a prose text (sentence by sentence) instead of a poem (line by line).\n",
    "\n",
    "There are two parts of this assignment. \n",
    "\n",
    "**Part 1**, which should be easy, is to replace the poems with texts of your own choice--and choose to split them by lines or sentences. \n",
    "\n",
    "**Part 2** is to write functions that and investigate your texts. If you want to focus on the functions first, you can go straight to Part 2 and use the poems I have chosen. You can then go back and enter your own texts--your functions should work no matter what text you've chosen.\n"
   ]
  },
  {
   "cell_type": "code",
   "execution_count": 32,
   "metadata": {},
   "outputs": [],
   "source": [
    "#Run this cell toImport regular expressions\n",
    "#And to initialize the all texts list that will contain all of your dictionaries of text\n",
    "import re\n",
    "all_texts = []"
   ]
  },
  {
   "cell_type": "markdown",
   "metadata": {},
   "source": [
    "** understanding the text_to_dict function**\n",
    "\n",
    "You don't have to completely understand this function to use it, but you do need to understand its parameters. It takes three parameters:\n",
    "* `title` is a string you need to write inside function's parameters\n",
    "* `text` is the variable that holds the entire text\n",
    "* `poem` True/False parameter --if it is true it will split your text by line (`\\n`) \n",
    " \tIf it is false it will split your text by sentence ('[.?!])\n",
    "\n",
    "If you look at the function you will see that it builds a dictionary with the following fields:\n",
    "* `title` is the title of the text\n",
    "* `text_as_string` is the full text as a string\n",
    "* `lines` is a list of lines or sentences\n",
    "\n",
    "It returns a dictionary with those fields."
   ]
  },
  {
   "cell_type": "code",
   "execution_count": 33,
   "metadata": {},
   "outputs": [],
   "source": [
    "def text_to_dict(title,text,poem):\n",
    "    dict_of_this_text = {}\n",
    "    dict_of_this_text['title'] = title\n",
    "    dict_of_this_text['text_as_string'] = text\n",
    "    if poem:\n",
    "        text_to_list = text.strip().split('\\n')\n",
    "    else:\n",
    "        text_to_list = re.split(r\"[.?!]\",text)\n",
    "    dict_of_this_text['lines'] = text_to_list\n",
    "    return dict_of_this_text\n"
   ]
  },
  {
   "cell_type": "code",
   "execution_count": 34,
   "metadata": {},
   "outputs": [],
   "source": [
    "#please note: the regular expression I am using to split by sentences\n",
    "#is highly flawed, it is borderline impossible to write a regular expression \n",
    "#that splits 100% perfectly by sentence, but feel free to use this."
   ]
  },
  {
   "cell_type": "markdown",
   "metadata": {},
   "source": [
    "## Part One\n",
    "\n",
    "The next five cells are exactly the same. They define five different texts, and then they pass each text through the `text_to_dict` function. And then they add the resulting dictionary to the all_texts list. \n",
    "\n",
    "In the five cells below enter your five selected texts.\n",
    "\n",
    "**You should do no coding at any point** until the very last cell before part two."
   ]
  },
  {
   "cell_type": "code",
   "execution_count": 35,
   "metadata": {},
   "outputs": [],
   "source": [
    "#To change the text, just put a new text between the quotation mark\n",
    "text0 = '''\n",
    "When I think about myself,\n",
    "I almost laugh myself to death,\n",
    "My life has been one great big joke,\n",
    "A dance that's walked\n",
    "A song that's spoke,\n",
    "I laugh so hard I almost choke\n",
    "When I think about myself.\n",
    "\n",
    "Sixty years in these folks' world\n",
    "The child I works for calls me girl\n",
    "I say \"Yes ma'am\" for working's sake.\n",
    "Too proud to bend\n",
    "Too poor to break,\n",
    "I laugh until my stomach ache,\n",
    "When I think about myself.\n",
    "\n",
    "My folks can make me split my side,\n",
    "I laughed so hard I nearly died,\n",
    "The tales they tell, sound just like lying,\n",
    "They grow the fruit,\n",
    "But eat the rind,\n",
    "I laugh until I start to crying,\n",
    "When I think about my folks.\n",
    "'''\n",
    "#Remember: you need to type the title into the first parameter\n",
    "#If you want to split by line choose True for the third parameter\n",
    "#If you want to split by sentence, choose False\n",
    "transform_it = text_to_dict(\"When I think about myself\",text0,True)\n",
    "all_texts.append(transform_it)"
   ]
  },
  {
   "cell_type": "code",
   "execution_count": 36,
   "metadata": {},
   "outputs": [
    {
     "data": {
      "text/plain": [
       "[{'title': 'When I think about myself',\n",
       "  'text_as_string': '\\nWhen I think about myself,\\nI almost laugh myself to death,\\nMy life has been one great big joke,\\nA dance that\\'s walked\\nA song that\\'s spoke,\\nI laugh so hard I almost choke\\nWhen I think about myself.\\n\\nSixty years in these folks\\' world\\nThe child I works for calls me girl\\nI say \"Yes ma\\'am\" for working\\'s sake.\\nToo proud to bend\\nToo poor to break,\\nI laugh until my stomach ache,\\nWhen I think about myself.\\n\\nMy folks can make me split my side,\\nI laughed so hard I nearly died,\\nThe tales they tell, sound just like lying,\\nThey grow the fruit,\\nBut eat the rind,\\nI laugh until I start to crying,\\nWhen I think about my folks.\\n',\n",
       "  'lines': ['When I think about myself,',\n",
       "   'I almost laugh myself to death,',\n",
       "   'My life has been one great big joke,',\n",
       "   \"A dance that's walked\",\n",
       "   \"A song that's spoke,\",\n",
       "   'I laugh so hard I almost choke',\n",
       "   'When I think about myself.',\n",
       "   '',\n",
       "   \"Sixty years in these folks' world\",\n",
       "   'The child I works for calls me girl',\n",
       "   'I say \"Yes ma\\'am\" for working\\'s sake.',\n",
       "   'Too proud to bend',\n",
       "   'Too poor to break,',\n",
       "   'I laugh until my stomach ache,',\n",
       "   'When I think about myself.',\n",
       "   '',\n",
       "   'My folks can make me split my side,',\n",
       "   'I laughed so hard I nearly died,',\n",
       "   'The tales they tell, sound just like lying,',\n",
       "   'They grow the fruit,',\n",
       "   'But eat the rind,',\n",
       "   'I laugh until I start to crying,',\n",
       "   'When I think about my folks.']}]"
      ]
     },
     "execution_count": 36,
     "metadata": {},
     "output_type": "execute_result"
    }
   ],
   "source": [
    "all_texts"
   ]
  },
  {
   "cell_type": "code",
   "execution_count": 37,
   "metadata": {},
   "outputs": [],
   "source": [
    "text1 = '''\n",
    "There are places I'll remember\n",
    "All my life, though some have changed\n",
    "Some forever, not for better\n",
    "Some have gone and some remain\n",
    "\n",
    "All these places had their moments\n",
    "With lovers and friends, I still can recall\n",
    "Some are dead and some are living\n",
    "In my life, I've loved them all\n",
    "\n",
    "But of all these friends and lovers\n",
    "There is no one compares with you\n",
    "And these memories lose their meaning\n",
    "When I think of love as something new\n",
    "\n",
    "Though I know I'll never lose affection\n",
    "For people and things that went before\n",
    "I know I'll often stop and think about them\n",
    "In my life, I love you more\n",
    "'''\n",
    "transform_it = text_to_dict(\"In My Life\",text1,True)\n",
    "all_texts.append(transform_it)"
   ]
  },
  {
   "cell_type": "code",
   "execution_count": 38,
   "metadata": {},
   "outputs": [],
   "source": [
    "text2 = '''\n",
    "Green was the color of the grass\n",
    "Where I used to read at Centennial Park\n",
    "I used to think I would meet somebody there\n",
    "Teal was the color of your shirt\n",
    "When you were sixteen at the yogurt shop\n",
    "You used to work at to make a little money\n",
    "\n",
    "Time, curious time\n",
    "Gave me no compasses, gave me no signs\n",
    "Were there clues I didn't see?\n",
    "And isn't it just so pretty to think\n",
    "All along there was some\n",
    "Invisible string\n",
    "Tying you to me?\n",
    "\n",
    "A string that pulled me\n",
    "Out of all the wrong arms, right into that dive bar\n",
    "Something wrapped all of my past mistakes in barbed wire\n",
    "Chains around my demons\n",
    "Wool to brave the seasons\n",
    "One single thread of gold\n",
    "Tied me to you\n",
    "'''\n",
    "transform_it = text_to_dict(\"Invisible String\",text2,True)\n",
    "all_texts.append(transform_it)"
   ]
  },
  {
   "cell_type": "code",
   "execution_count": 39,
   "metadata": {},
   "outputs": [
    {
     "data": {
      "text/plain": [
       "'When you were sixteen at the yogurt shop'"
      ]
     },
     "execution_count": 39,
     "metadata": {},
     "output_type": "execute_result"
    }
   ],
   "source": [
    "all_texts[2]['lines'][4]"
   ]
  },
  {
   "cell_type": "code",
   "execution_count": 40,
   "metadata": {},
   "outputs": [],
   "source": [
    "text3 = '''\n",
    "Here on the edge of hell\n",
    "Stands Harlem—\n",
    "Remembering the old lies, \n",
    "The old kicks in the back,\n",
    "The old \"Be patient\"\n",
    "They told us before.\n",
    "\n",
    "Sure, we remember.\n",
    "Now when the man at the corner store\n",
    "Says sugar's gone up another two cents,\n",
    "And bread one,\n",
    "And there's a new tax on cigarettes—\n",
    "We remember the job we never had,\n",
    "Never could get,\n",
    "And can't have now\n",
    "Because we're colored.\n",
    "\n",
    "So we stand here\n",
    "On the edge of hell\n",
    "in Harlem\n",
    "And look out on the world\n",
    "And wonder\n",
    "What we're gonna do\n",
    "In the face of what\n",
    "We remember.\n",
    "'''\n",
    "transform_it = text_to_dict(\"Harlem\",text3,True)\n",
    "all_texts.append(transform_it)"
   ]
  },
  {
   "cell_type": "code",
   "execution_count": 41,
   "metadata": {},
   "outputs": [],
   "source": [
    "text4 = '''\n",
    "They said of him, about the city that night, \n",
    "that it was the peacefullest man's face ever beheld there. \n",
    "Many added that he looked sublime and prophetic. \n",
    "One of the most remarkable sufferers by the same axe -a woman - \n",
    "had asked at the foot of the same scaffold, not long before, \n",
    "to be allowed to write down the thoughts that were inspiring her. \n",
    "If he had given any utterance to his, and they were prophetic, \n",
    "they would have been these:\n",
    "\n",
    "It is a far, far better thing that I do, \n",
    "than I have ever done; \n",
    "it is a far, far better rest that I go to, \n",
    "than I have ever known.\n",
    "'''\n",
    "transform_it = text_to_dict(\"Tale of Two Cities\",text4,True)\n",
    "all_texts.append(transform_it)"
   ]
  },
  {
   "cell_type": "markdown",
   "metadata": {},
   "source": [
    "Run the two cells below to confirm that first, you only have five texts in the all_texts list, and next, look at the all_texts list to see the dictionary inside it. "
   ]
  },
  {
   "cell_type": "code",
   "execution_count": 42,
   "metadata": {},
   "outputs": [
    {
     "data": {
      "text/plain": [
       "5"
      ]
     },
     "execution_count": 42,
     "metadata": {},
     "output_type": "execute_result"
    }
   ],
   "source": [
    "len(all_texts)"
   ]
  },
  {
   "cell_type": "code",
   "execution_count": 43,
   "metadata": {},
   "outputs": [
    {
     "data": {
      "text/plain": [
       "[{'title': 'When I think about myself',\n",
       "  'text_as_string': '\\nWhen I think about myself,\\nI almost laugh myself to death,\\nMy life has been one great big joke,\\nA dance that\\'s walked\\nA song that\\'s spoke,\\nI laugh so hard I almost choke\\nWhen I think about myself.\\n\\nSixty years in these folks\\' world\\nThe child I works for calls me girl\\nI say \"Yes ma\\'am\" for working\\'s sake.\\nToo proud to bend\\nToo poor to break,\\nI laugh until my stomach ache,\\nWhen I think about myself.\\n\\nMy folks can make me split my side,\\nI laughed so hard I nearly died,\\nThe tales they tell, sound just like lying,\\nThey grow the fruit,\\nBut eat the rind,\\nI laugh until I start to crying,\\nWhen I think about my folks.\\n',\n",
       "  'lines': ['When I think about myself,',\n",
       "   'I almost laugh myself to death,',\n",
       "   'My life has been one great big joke,',\n",
       "   \"A dance that's walked\",\n",
       "   \"A song that's spoke,\",\n",
       "   'I laugh so hard I almost choke',\n",
       "   'When I think about myself.',\n",
       "   '',\n",
       "   \"Sixty years in these folks' world\",\n",
       "   'The child I works for calls me girl',\n",
       "   'I say \"Yes ma\\'am\" for working\\'s sake.',\n",
       "   'Too proud to bend',\n",
       "   'Too poor to break,',\n",
       "   'I laugh until my stomach ache,',\n",
       "   'When I think about myself.',\n",
       "   '',\n",
       "   'My folks can make me split my side,',\n",
       "   'I laughed so hard I nearly died,',\n",
       "   'The tales they tell, sound just like lying,',\n",
       "   'They grow the fruit,',\n",
       "   'But eat the rind,',\n",
       "   'I laugh until I start to crying,',\n",
       "   'When I think about my folks.']},\n",
       " {'title': 'In My Life',\n",
       "  'text_as_string': \"\\nThere are places I'll remember\\nAll my life, though some have changed\\nSome forever, not for better\\nSome have gone and some remain\\n\\nAll these places had their moments\\nWith lovers and friends, I still can recall\\nSome are dead and some are living\\nIn my life, I've loved them all\\n\\nBut of all these friends and lovers\\nThere is no one compares with you\\nAnd these memories lose their meaning\\nWhen I think of love as something new\\n\\nThough I know I'll never lose affection\\nFor people and things that went before\\nI know I'll often stop and think about them\\nIn my life, I love you more\\n\",\n",
       "  'lines': [\"There are places I'll remember\",\n",
       "   'All my life, though some have changed',\n",
       "   'Some forever, not for better',\n",
       "   'Some have gone and some remain',\n",
       "   '',\n",
       "   'All these places had their moments',\n",
       "   'With lovers and friends, I still can recall',\n",
       "   'Some are dead and some are living',\n",
       "   \"In my life, I've loved them all\",\n",
       "   '',\n",
       "   'But of all these friends and lovers',\n",
       "   'There is no one compares with you',\n",
       "   'And these memories lose their meaning',\n",
       "   'When I think of love as something new',\n",
       "   '',\n",
       "   \"Though I know I'll never lose affection\",\n",
       "   'For people and things that went before',\n",
       "   \"I know I'll often stop and think about them\",\n",
       "   'In my life, I love you more']},\n",
       " {'title': 'Invisible String',\n",
       "  'text_as_string': \"\\nGreen was the color of the grass\\nWhere I used to read at Centennial Park\\nI used\\u2005to\\u2005think I would\\u2005meet somebody there\\nTeal was the color\\u2005of your shirt\\nWhen you were sixteen at the yogurt shop\\nYou\\u205fused\\u205fto\\u205fwork at to\\u205fmake a little\\u205fmoney\\n\\nTime, curious time\\nGave me no compasses, gave me no signs\\nWere there clues I didn't see?\\nAnd isn't it just so pretty to think\\nAll along there was some\\nInvisible string\\nTying you to me?\\n\\nA string that pulled me\\nOut of all the wrong arms, right into that dive bar\\nSomething wrapped all of my past mistakes in barbed wire\\nChains around my demons\\nWool to brave the seasons\\nOne single thread of gold\\nTied me to you\\n\",\n",
       "  'lines': ['Green was the color of the grass',\n",
       "   'Where I used to read at Centennial Park',\n",
       "   'I used\\u2005to\\u2005think I would\\u2005meet somebody there',\n",
       "   'Teal was the color\\u2005of your shirt',\n",
       "   'When you were sixteen at the yogurt shop',\n",
       "   'You\\u205fused\\u205fto\\u205fwork at to\\u205fmake a little\\u205fmoney',\n",
       "   '',\n",
       "   'Time, curious time',\n",
       "   'Gave me no compasses, gave me no signs',\n",
       "   \"Were there clues I didn't see?\",\n",
       "   \"And isn't it just so pretty to think\",\n",
       "   'All along there was some',\n",
       "   'Invisible string',\n",
       "   'Tying you to me?',\n",
       "   '',\n",
       "   'A string that pulled me',\n",
       "   'Out of all the wrong arms, right into that dive bar',\n",
       "   'Something wrapped all of my past mistakes in barbed wire',\n",
       "   'Chains around my demons',\n",
       "   'Wool to brave the seasons',\n",
       "   'One single thread of gold',\n",
       "   'Tied me to you']},\n",
       " {'title': 'Harlem',\n",
       "  'text_as_string': '\\nHere on the edge of hell\\nStands Harlem—\\nRemembering the old lies, \\nThe old kicks in the back,\\nThe old \"Be patient\"\\nThey told us before.\\n\\nSure, we remember.\\nNow when the man at the corner store\\nSays sugar\\'s gone up another two cents,\\nAnd bread one,\\nAnd there\\'s a new tax on cigarettes—\\nWe remember the job we never had,\\nNever could get,\\nAnd can\\'t have now\\nBecause we\\'re colored.\\n\\nSo we stand here\\nOn the edge of hell\\nin Harlem\\nAnd look out on the world\\nAnd wonder\\nWhat we\\'re gonna do\\nIn the face of what\\nWe remember.\\n',\n",
       "  'lines': ['Here on the edge of hell',\n",
       "   'Stands Harlem—',\n",
       "   'Remembering the old lies, ',\n",
       "   'The old kicks in the back,',\n",
       "   'The old \"Be patient\"',\n",
       "   'They told us before.',\n",
       "   '',\n",
       "   'Sure, we remember.',\n",
       "   'Now when the man at the corner store',\n",
       "   \"Says sugar's gone up another two cents,\",\n",
       "   'And bread one,',\n",
       "   \"And there's a new tax on cigarettes—\",\n",
       "   'We remember the job we never had,',\n",
       "   'Never could get,',\n",
       "   \"And can't have now\",\n",
       "   \"Because we're colored.\",\n",
       "   '',\n",
       "   'So we stand here',\n",
       "   'On the edge of hell',\n",
       "   'in Harlem',\n",
       "   'And look out on the world',\n",
       "   'And wonder',\n",
       "   \"What we're gonna do\",\n",
       "   'In the face of what',\n",
       "   'We remember.']},\n",
       " {'title': 'Tale of Two Cities',\n",
       "  'text_as_string': \"\\nThey said of him, about the city that night, \\nthat it was the peacefullest man's face ever beheld there. \\nMany added that he looked sublime and prophetic. \\nOne of the most remarkable sufferers by the same axe -a woman - \\nhad asked at the foot of the same scaffold, not long before, \\nto be allowed to write down the thoughts that were inspiring her. \\nIf he had given any utterance to his, and they were prophetic, \\nthey would have been these:\\n\\nIt is a far, far better thing that I do, \\nthan I have ever done; \\nit is a far, far better rest that I go to, \\nthan I have ever known.\\n\",\n",
       "  'lines': ['They said of him, about the city that night, ',\n",
       "   \"that it was the peacefullest man's face ever beheld there. \",\n",
       "   'Many added that he looked sublime and prophetic. ',\n",
       "   'One of the most remarkable sufferers by the same axe -a woman - ',\n",
       "   'had asked at the foot of the same scaffold, not long before, ',\n",
       "   'to be allowed to write down the thoughts that were inspiring her. ',\n",
       "   'If he had given any utterance to his, and they were prophetic, ',\n",
       "   'they would have been these:',\n",
       "   '',\n",
       "   'It is a far, far better thing that I do, ',\n",
       "   'than I have ever done; ',\n",
       "   'it is a far, far better rest that I go to, ',\n",
       "   'than I have ever known.']}]"
      ]
     },
     "execution_count": 43,
     "metadata": {},
     "output_type": "execute_result"
    }
   ],
   "source": [
    "all_texts"
   ]
  },
  {
   "cell_type": "markdown",
   "metadata": {},
   "source": [
    "In the cell below, loop through all_texts and print out the title of each text. (This is the only code you need to write for Part One.)"
   ]
  },
  {
   "cell_type": "code",
   "execution_count": 44,
   "metadata": {},
   "outputs": [
    {
     "name": "stdout",
     "output_type": "stream",
     "text": [
      "When I think about myself\n",
      "In My Life\n",
      "Invisible String\n",
      "Harlem\n",
      "Tale of Two Cities\n"
     ]
    }
   ],
   "source": [
    "for text in all_texts:\n",
    "    print(text['title'])"
   ]
  },
  {
   "cell_type": "markdown",
   "metadata": {},
   "source": [
    "## Part Two:  searching within lists and dictionaries\n",
    "In this part, we will be searching through each text and printing out a desired result. The searches, including loops and printing should all be defined in the function. The second cell should just have a function call that executes the function. I have written an example function and call for the first search. For each function that you write you should copy the function from the previous question and modify it so what does what I ask for.\n",
    "\n",
    "For the first five functions, there are no parameters passed to the functions--the calls will just execute the function. Go step-by-step and take your time."
   ]
  },
  {
   "cell_type": "code",
   "execution_count": 45,
   "metadata": {},
   "outputs": [],
   "source": [
    "def get_lengths():\n",
    "    for text in all_texts:\n",
    "        print(text['title'])\n",
    "        print(len(text['text_as_string']))\n",
    "        print(\"------------\")"
   ]
  },
  {
   "cell_type": "code",
   "execution_count": 46,
   "metadata": {},
   "outputs": [
    {
     "name": "stdout",
     "output_type": "stream",
     "text": [
      "When I think about myself\n",
      "617\n",
      "------------\n",
      "In My Life\n",
      "575\n",
      "------------\n",
      "Invisible String\n",
      "646\n",
      "------------\n",
      "Harlem\n",
      "517\n",
      "------------\n",
      "Tale of Two Cities\n",
      "578\n",
      "------------\n"
     ]
    }
   ],
   "source": [
    "get_lengths()"
   ]
  },
  {
   "cell_type": "markdown",
   "metadata": {},
   "source": [
    "Question 1\n",
    "Now write a function that gets the **line count for each poem** (or sentence count for each piece of prose). This function is going to be very similar to the last one. Instead of accessing the whole text via text['text_as_string'] which is a string, you need to access the list of lines/sentences and get the length of that list. Everything else should be the same."
   ]
  },
  {
   "cell_type": "code",
   "execution_count": 47,
   "metadata": {},
   "outputs": [],
   "source": [
    "def get_line_count():\n",
    "    for text in all_texts:\n",
    "        print(text['title'])\n",
    "        print(len(text['lines']))\n",
    "    print(\"------------\")"
   ]
  },
  {
   "cell_type": "code",
   "execution_count": 48,
   "metadata": {},
   "outputs": [
    {
     "name": "stdout",
     "output_type": "stream",
     "text": [
      "When I think about myself\n",
      "23\n",
      "In My Life\n",
      "19\n",
      "Invisible String\n",
      "22\n",
      "Harlem\n",
      "25\n",
      "Tale of Two Cities\n",
      "13\n",
      "------------\n"
     ]
    }
   ],
   "source": [
    "get_line_count()"
   ]
  },
  {
   "cell_type": "markdown",
   "metadata": {},
   "source": [
    "Question 2\n",
    "Now write a function that prints out **one random line or sentence from each text**. Again, this function will look much the same as the last ones, but instead of getting numbers you need to get actual lines. I have included the necessary import and an example of how to get random integers. Basically, for each text you need to get one element from the list of lines/ sentences with a random number between 0 and the length of the list."
   ]
  },
  {
   "cell_type": "code",
   "execution_count": 49,
   "metadata": {},
   "outputs": [],
   "source": [
    "from random import randint\n",
    "\n",
    "def show_random_lines():\n",
    "    for text in all_texts:\n",
    "        random_num = randint(0,13)\n",
    "        print(text['title'])\n",
    "        print(text['lines'][random_num])\n",
    "        print('-----------')\n"
   ]
  },
  {
   "cell_type": "code",
   "execution_count": 50,
   "metadata": {},
   "outputs": [
    {
     "name": "stdout",
     "output_type": "stream",
     "text": [
      "When I think about myself\n",
      "\n",
      "-----------\n",
      "In My Life\n",
      "But of all these friends and lovers\n",
      "-----------\n",
      "Invisible String\n",
      "Gave me no compasses, gave me no signs\n",
      "-----------\n",
      "Harlem\n",
      "The old \"Be patient\"\n",
      "-----------\n",
      "Tale of Two Cities\n",
      "\n",
      "-----------\n"
     ]
    }
   ],
   "source": [
    "show_random_lines()"
   ]
  },
  {
   "cell_type": "markdown",
   "metadata": {},
   "source": [
    "Question 3\n",
    "This is a little bit different--instead of printing out something from each text, I want you to **print the entire text of the longest text**. Remember in the first function, I printed out the length of each text. Well, you need to test for the longest text as you loop through and when you're done looping through print out the one that is longest.\n",
    "\n",
    "**Major hints!**: To do this you will need two **tracking variables** set before the loop runs: A numerical one that tracks the longest length (the number), and string variable remembers the actual text that has that length.\n",
    "\n",
    "Like this: longest_length = 0 and longest_text = \"\"\n",
    "\n",
    "When you loop through, you need to test if each text was longer than the last one, and if it is longer--you update longest_length and longest_text to reflect the highest length, and the actual text. When the loop is over you then print out that longest_text string."
   ]
  },
  {
   "cell_type": "code",
   "execution_count": 51,
   "metadata": {},
   "outputs": [],
   "source": [
    "def longest_text():\n",
    "    longest_length = 0\n",
    "    longest_text = ''\n",
    "    for text in all_texts:\n",
    "        if len(text['lines']) > longest_length:\n",
    "            longest_length = len(text['lines'])\n",
    "            longest_text = text['lines']\n",
    "    print(longest_text)"
   ]
  },
  {
   "cell_type": "code",
   "execution_count": 52,
   "metadata": {},
   "outputs": [
    {
     "name": "stdout",
     "output_type": "stream",
     "text": [
      "['Here on the edge of hell', 'Stands Harlem—', 'Remembering the old lies, ', 'The old kicks in the back,', 'The old \"Be patient\"', 'They told us before.', '', 'Sure, we remember.', 'Now when the man at the corner store', \"Says sugar's gone up another two cents,\", 'And bread one,', \"And there's a new tax on cigarettes—\", 'We remember the job we never had,', 'Never could get,', \"And can't have now\", \"Because we're colored.\", '', 'So we stand here', 'On the edge of hell', 'in Harlem', 'And look out on the world', 'And wonder', \"What we're gonna do\", 'In the face of what', 'We remember.']\n"
     ]
    }
   ],
   "source": [
    "longest_text()"
   ]
  },
  {
   "cell_type": "markdown",
   "metadata": {},
   "source": [
    "Question 4\n",
    "This is kind of a combination of the first two functions--write a function that gets the **average line/sentence length for each text**."
   ]
  },
  {
   "cell_type": "code",
   "execution_count": 53,
   "metadata": {},
   "outputs": [],
   "source": [
    "def average_line_length():\n",
    "    for text in all_texts:\n",
    "        print(text['title'])\n",
    "        average = (len(text['text_as_string']))/(len(text['lines']))\n",
    "        print(average)"
   ]
  },
  {
   "cell_type": "code",
   "execution_count": 54,
   "metadata": {},
   "outputs": [
    {
     "name": "stdout",
     "output_type": "stream",
     "text": [
      "When I think about myself\n",
      "26.82608695652174\n",
      "In My Life\n",
      "30.263157894736842\n",
      "Invisible String\n",
      "29.363636363636363\n",
      "Harlem\n",
      "20.68\n",
      "Tale of Two Cities\n",
      "44.46153846153846\n"
     ]
    }
   ],
   "source": [
    "average_line_length()"
   ]
  },
  {
   "cell_type": "markdown",
   "metadata": {},
   "source": [
    "Question 5\n",
    "**Print the longest line/sentence in each text**. \n",
    "This is similar to question 3--but your two tracking variables (longest_length and longest_line) need to be placed right before the inside loop--and then you print the lines each time the inside loop ends."
   ]
  },
  {
   "cell_type": "code",
   "execution_count": 55,
   "metadata": {},
   "outputs": [],
   "source": [
    "def longest_line_in_each():\n",
    "    for text in all_texts:\n",
    "        print(text['title'])\n",
    "        longest_line = 0\n",
    "        longest_line_text = ''\n",
    "        for line in text['lines']:\n",
    "            if len(line) > longest_line:\n",
    "                longest_line=len(line)\n",
    "                longest_line_text= line\n",
    "        print(longest_line_text)"
   ]
  },
  {
   "cell_type": "code",
   "execution_count": 56,
   "metadata": {},
   "outputs": [
    {
     "name": "stdout",
     "output_type": "stream",
     "text": [
      "When I think about myself\n",
      "The tales they tell, sound just like lying,\n",
      "In My Life\n",
      "With lovers and friends, I still can recall\n",
      "Invisible String\n",
      "Something wrapped all of my past mistakes in barbed wire\n",
      "Harlem\n",
      "Says sugar's gone up another two cents,\n",
      "Tale of Two Cities\n",
      "to be allowed to write down the thoughts that were inspiring her. \n"
     ]
    }
   ],
   "source": [
    "longest_line_in_each()"
   ]
  },
  {
   "cell_type": "markdown",
   "metadata": {},
   "source": [
    "Question 6\n",
    "**Print the shortest single line/sentence out of all of the texts that is greater than zero**\n",
    "This is the tricky-ish: You need to place the tracking variables outside the loop (like question 4, but the loop through all of the lines, test for the shortest one (greater than 0)."
   ]
  },
  {
   "cell_type": "code",
   "execution_count": 57,
   "metadata": {},
   "outputs": [],
   "source": [
    "def shortest_of_all_lines():\n",
    "    shortest_line = 10000\n",
    "    shortest_line_text = ''\n",
    "    for text in all_texts:\n",
    "        print(text['title'])\n",
    "        for line in text['title']:\n",
    "            if len(line) < shortest_line and len(line) != 0:\n",
    "                shortest_line = len(line)\n",
    "                shortest_line_text = line\n",
    "            print(shortest_line_text)\n",
    "# I can't think of another way to do this structurally, but I keep getting different answers and all of them are incorrect    "
   ]
  },
  {
   "cell_type": "code",
   "execution_count": 58,
   "metadata": {},
   "outputs": [
    {
     "name": "stdout",
     "output_type": "stream",
     "text": [
      "When I think about myself\n",
      "W\n",
      "W\n",
      "W\n",
      "W\n",
      "W\n",
      "W\n",
      "W\n",
      "W\n",
      "W\n",
      "W\n",
      "W\n",
      "W\n",
      "W\n",
      "W\n",
      "W\n",
      "W\n",
      "W\n",
      "W\n",
      "W\n",
      "W\n",
      "W\n",
      "W\n",
      "W\n",
      "W\n",
      "W\n",
      "In My Life\n",
      "W\n",
      "W\n",
      "W\n",
      "W\n",
      "W\n",
      "W\n",
      "W\n",
      "W\n",
      "W\n",
      "W\n",
      "Invisible String\n",
      "W\n",
      "W\n",
      "W\n",
      "W\n",
      "W\n",
      "W\n",
      "W\n",
      "W\n",
      "W\n",
      "W\n",
      "W\n",
      "W\n",
      "W\n",
      "W\n",
      "W\n",
      "W\n",
      "Harlem\n",
      "W\n",
      "W\n",
      "W\n",
      "W\n",
      "W\n",
      "W\n",
      "Tale of Two Cities\n",
      "W\n",
      "W\n",
      "W\n",
      "W\n",
      "W\n",
      "W\n",
      "W\n",
      "W\n",
      "W\n",
      "W\n",
      "W\n",
      "W\n",
      "W\n",
      "W\n",
      "W\n",
      "W\n",
      "W\n",
      "W\n"
     ]
    }
   ],
   "source": [
    "shortest_of_all_lines()"
   ]
  },
  {
   "cell_type": "markdown",
   "metadata": {},
   "source": [
    "## searching with regular expressions\n",
    "In the functions below you will search all the texts using regular expressions. The first few of these functions should not be too challenging--you just need to adjust the regular expression inside the function. At points it gets a little more complex as you have to control the looping through the lists and dictionaries."
   ]
  },
  {
   "cell_type": "code",
   "execution_count": 59,
   "metadata": {},
   "outputs": [],
   "source": [
    "def get_this_word(word):\n",
    "    my_regex = r\"\\b\" + word + r\"\\b\"\n",
    "    for text in all_texts:\n",
    "        result = [line for line in text['lines'] if re.search(my_regex, line, re.IGNORECASE)]\n",
    "        if len(result) > 0:\n",
    "            print(text['title'])\n",
    "            [print(line) for line in result]\n",
    "            print(\"------------\")\n",
    "            "
   ]
  },
  {
   "cell_type": "code",
   "execution_count": 60,
   "metadata": {},
   "outputs": [
    {
     "name": "stdout",
     "output_type": "stream",
     "text": [
      "When I think about myself\n",
      "The child I works for calls me girl\n",
      "The tales they tell, sound just like lying,\n",
      "They grow the fruit,\n",
      "But eat the rind,\n",
      "------------\n",
      "Invisible String\n",
      "Green was the color of the grass\n",
      "Teal was the color of your shirt\n",
      "When you were sixteen at the yogurt shop\n",
      "Out of all the wrong arms, right into that dive bar\n",
      "Wool to brave the seasons\n",
      "------------\n",
      "Harlem\n",
      "Here on the edge of hell\n",
      "Remembering the old lies, \n",
      "The old kicks in the back,\n",
      "The old \"Be patient\"\n",
      "Now when the man at the corner store\n",
      "We remember the job we never had,\n",
      "On the edge of hell\n",
      "And look out on the world\n",
      "In the face of what\n",
      "------------\n",
      "Tale of Two Cities\n",
      "They said of him, about the city that night, \n",
      "that it was the peacefullest man's face ever beheld there. \n",
      "One of the most remarkable sufferers by the same axe -a woman - \n",
      "had asked at the foot of the same scaffold, not long before, \n",
      "to be allowed to write down the thoughts that were inspiring her. \n",
      "------------\n"
     ]
    }
   ],
   "source": [
    "get_this_word('the')"
   ]
  },
  {
   "cell_type": "markdown",
   "metadata": {},
   "source": [
    "Question 7\n",
    "Print out the lines that **start** with the word entered.  You just need to adjust the regular expression here."
   ]
  },
  {
   "cell_type": "code",
   "execution_count": 93,
   "metadata": {},
   "outputs": [],
   "source": [
    "def line_starts_with(word):\n",
    "    my_regex = r\"^\" + word + r\"\\s.*\"\n",
    "    for text in all_texts:\n",
    "        result = [line for line in text['lines'] if re.search(my_regex, line, re.IGNORECASE)]\n",
    "        if len(result) > 0:\n",
    "            print(text['title'])\n",
    "            [print(line) for line in result]\n",
    "            print(\"------------\")\n",
    "            \n",
    "    "
   ]
  },
  {
   "cell_type": "code",
   "execution_count": 94,
   "metadata": {
    "scrolled": true
   },
   "outputs": [
    {
     "name": "stdout",
     "output_type": "stream",
     "text": [
      "When I think about myself\n",
      "The child I works for calls me girl\n",
      "The tales they tell, sound just like lying,\n",
      "------------\n",
      "Harlem\n",
      "The old kicks in the back,\n",
      "The old \"Be patient\"\n",
      "------------\n"
     ]
    }
   ],
   "source": [
    "line_starts_with('the')"
   ]
  },
  {
   "cell_type": "code",
   "execution_count": 95,
   "metadata": {},
   "outputs": [
    {
     "name": "stdout",
     "output_type": "stream",
     "text": [
      "When I think about myself\n",
      "They grow the fruit,\n",
      "------------\n",
      "Harlem\n",
      "They told us before.\n",
      "------------\n",
      "Tale of Two Cities\n",
      "They said of him, about the city that night, \n",
      "they would have been these:\n",
      "------------\n"
     ]
    }
   ],
   "source": [
    "line_starts_with('they')"
   ]
  },
  {
   "cell_type": "markdown",
   "metadata": {},
   "source": [
    "Question 8\n",
    "Print out the lines that **end** with the word entered.  You just need to adjust the regular expression here."
   ]
  },
  {
   "cell_type": "code",
   "execution_count": 91,
   "metadata": {},
   "outputs": [],
   "source": [
    "def line_ends_with(word):\n",
    "    my_regex = r\"(.*)\\s\" + word + r\"$\"\n",
    "    for text in all_texts:\n",
    "        result = [line for line in text['lines'] if re.search(my_regex, line, re.IGNORECASE)]\n",
    "        if len(result) > 0:\n",
    "            print(text['title'])\n",
    "            [print(line) for line in result]\n",
    "            print(\"------------\")\n",
    "            "
   ]
  },
  {
   "cell_type": "code",
   "execution_count": 92,
   "metadata": {},
   "outputs": [
    {
     "name": "stdout",
     "output_type": "stream",
     "text": [
      "Invisible String\n",
      "A string that pulled me\n",
      "------------\n"
     ]
    }
   ],
   "source": [
    "line_ends_with('me')"
   ]
  },
  {
   "cell_type": "markdown",
   "metadata": {},
   "source": [
    "Question 9\n",
    "Print out **how many times the word was found in each text.** In this case, instead of the list comprehension, you want to run a re.findall() on the string of the text (not the list) and then count the number of elements in the list of results.\n",
    "\n",
    "Hint: use the original function at the beginning of this section, and make the proper adjustments to the variable \"result\""
   ]
  },
  {
   "cell_type": "code",
   "execution_count": 214,
   "metadata": {},
   "outputs": [],
   "source": [
    "def how_many_times(word):\n",
    "    my_regex = r\"\\b\" + word + r\"\\b\"\n",
    "    for text in all_texts:\n",
    "        result = re.findall(my_regex, text['text_as_string'], re.IGNORECASE)\n",
    "        if len(result) > 0:\n",
    "            print(text['title'])\n",
    "            print(len(result))\n",
    "            print(\"------------\")\n",
    "            \n",
    "    "
   ]
  },
  {
   "cell_type": "code",
   "execution_count": 223,
   "metadata": {},
   "outputs": [
    {
     "name": "stdout",
     "output_type": "stream",
     "text": [
      "When I think about myself\n",
      "1\n",
      "------------\n",
      "In My Life\n",
      "2\n",
      "------------\n",
      "Invisible String\n",
      "1\n",
      "------------\n",
      "Harlem\n",
      "3\n",
      "------------\n"
     ]
    }
   ],
   "source": [
    "how_many_times('in')"
   ]
  },
  {
   "cell_type": "markdown",
   "metadata": {},
   "source": [
    "Question 10\n",
    "Print out **the text that has the highest occurrence of the word** you searched for. This is similar to the last function, but here you need tracking variables like you had in Question 3.\n"
   ]
  },
  {
   "cell_type": "code",
   "execution_count": 263,
   "metadata": {},
   "outputs": [],
   "source": [
    "def text_with_most_occurance_of(word):\n",
    "    my_regex = r\"\\b\" + word + r\"\\b\"\n",
    "    occurrences = 0\n",
    "    occurrences_text = \"\"\n",
    "    for text in all_texts:\n",
    "        result = re.findall(my_regex, text['text_as_string'], re.IGNORECASE)\n",
    "        if len(result) > occurrences and len(result) != 0:\n",
    "            occurrences = len(result)\n",
    "            occurrences_text = text['text_as_string']\n",
    "    print(text['title'])\n",
    "    print(occurrences_text)\n",
    "        \n",
    "        \n",
    "    \n",
    "    \n"
   ]
  },
  {
   "cell_type": "code",
   "execution_count": 264,
   "metadata": {},
   "outputs": [
    {
     "name": "stdout",
     "output_type": "stream",
     "text": [
      "Tale of Two Cities\n",
      "\n",
      "Here on the edge of hell\n",
      "Stands Harlem—\n",
      "Remembering the old lies, \n",
      "The old kicks in the back,\n",
      "The old \"Be patient\"\n",
      "They told us before.\n",
      "\n",
      "Sure, we remember.\n",
      "Now when the man at the corner store\n",
      "Says sugar's gone up another two cents,\n",
      "And bread one,\n",
      "And there's a new tax on cigarettes—\n",
      "We remember the job we never had,\n",
      "Never could get,\n",
      "And can't have now\n",
      "Because we're colored.\n",
      "\n",
      "So we stand here\n",
      "On the edge of hell\n",
      "in Harlem\n",
      "And look out on the world\n",
      "And wonder\n",
      "What we're gonna do\n",
      "In the face of what\n",
      "We remember.\n",
      "\n"
     ]
    }
   ],
   "source": [
    "text_with_most_occurance_of('the')"
   ]
  },
  {
   "cell_type": "markdown",
   "metadata": {},
   "source": [
    "Question 11\n",
    "Print out **lines containing words of the length asked**. We are sort of back to basics here, you just need to modify the regular expression of the first function (get_this_word(word)) so that it can take a number parameter for the length of characters in a word."
   ]
  },
  {
   "cell_type": "code",
   "execution_count": 346,
   "metadata": {},
   "outputs": [],
   "source": [
    "def lines_with_words_this_length(word):\n",
    "    my_regex = r\"\\b\\w{\"+word+r\"}\\b\"\n",
    "    for text in all_texts:\n",
    "        result = [line for line in text['lines'] if re.search(my_regex, line, re.IGNORECASE)]\n",
    "        if len(result) > 0:\n",
    "            print(text['title'])\n",
    "            [print(line) for line in result]\n",
    "            print(\"------------\")"
   ]
  },
  {
   "cell_type": "code",
   "execution_count": 347,
   "metadata": {},
   "outputs": [
    {
     "name": "stdout",
     "output_type": "stream",
     "text": [
      "Invisible String\n",
      "Where I used to read at Centennial Park\n",
      "------------\n",
      "Harlem\n",
      "And there's a new tax on cigarettes—\n",
      "------------\n",
      "Tale of Two Cities\n",
      "One of the most remarkable sufferers by the same axe -a woman - \n",
      "------------\n"
     ]
    }
   ],
   "source": [
    "lines_with_words_this_length('10')"
   ]
  },
  {
   "cell_type": "markdown",
   "metadata": {
    "collapsed": true
   },
   "source": [
    "**Final question:** in this cell, describe two functions that you would like to write, not ones that you're able to write, but ones you think would be useful or interesting or fun--or might bring greater insight into a corpus of text. If you feel like trying to write it, go-ahead!"
   ]
  },
  {
   "cell_type": "markdown",
   "metadata": {},
   "source": [
    "1. I think it might be interesting to find all of the end line punctuation marks specifically to investigate how the text's author chose to divide each line.\n",
    "    This might also give us some insight into the connotation of each text. \n",
    "2. I would also like to learn how to search for multiple words at a time, especially those that show up in tandem in each text. "
   ]
  },
  {
   "cell_type": "markdown",
   "metadata": {
    "collapsed": true
   },
   "source": [
    "**Bonus question:** Write a function that counts word frequency: that is, it returns a dictionary with each unique word and its count, sorted by the most frequent. Note, this is highly stack-overflowable -- Python has some built in ways of doing this. If you're doing this, you might as well try to do it on your own. But it's up to you!"
   ]
  },
  {
   "cell_type": "code",
   "execution_count": 265,
   "metadata": {},
   "outputs": [],
   "source": [
    "# I know you really wanted us to attempt this, but I'm so overwhelmed with homework that I need to get this assignment off my plate. I will turn it in now without the this questions and will circle back tomorrow if I'm able to!"
   ]
  },
  {
   "cell_type": "code",
   "execution_count": null,
   "metadata": {},
   "outputs": [],
   "source": []
  }
 ],
 "metadata": {
  "kernelspec": {
   "display_name": "Python 3",
   "language": "python",
   "name": "python3"
  },
  "language_info": {
   "codemirror_mode": {
    "name": "ipython",
    "version": 3
   },
   "file_extension": ".py",
   "mimetype": "text/x-python",
   "name": "python",
   "nbconvert_exporter": "python",
   "pygments_lexer": "ipython3",
   "version": "3.8.2"
  }
 },
 "nbformat": 4,
 "nbformat_minor": 2
}
